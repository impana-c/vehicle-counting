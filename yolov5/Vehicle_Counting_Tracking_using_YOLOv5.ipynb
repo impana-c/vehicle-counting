{
  "nbformat": 4,
  "nbformat_minor": 0,
  "metadata": {
    "colab": {
      "provenance": [],
      "machine_shape": "hm",
      "gpuType": "T4"
    },
    "kernelspec": {
      "display_name": "Python 3",
      "name": "python3"
    },
    "accelerator": "GPU"
  },
  "cells": [
    {
      "cell_type": "code",
      "metadata": {
        "colab": {
          "base_uri": "https://localhost:8080/"
        },
        "id": "JlsoemuQ4amH",
        "outputId": "e956ddab-588c-4de7-ca14-9d922613928f"
      },
      "source": [
        "!nvidia-smi"
      ],
      "execution_count": null,
      "outputs": [
        {
          "output_type": "stream",
          "name": "stdout",
          "text": [
            "Thu Aug  3 21:04:58 2023       \n",
            "+-----------------------------------------------------------------------------+\n",
            "| NVIDIA-SMI 525.105.17   Driver Version: 525.105.17   CUDA Version: 12.0     |\n",
            "|-------------------------------+----------------------+----------------------+\n",
            "| GPU  Name        Persistence-M| Bus-Id        Disp.A | Volatile Uncorr. ECC |\n",
            "| Fan  Temp  Perf  Pwr:Usage/Cap|         Memory-Usage | GPU-Util  Compute M. |\n",
            "|                               |                      |               MIG M. |\n",
            "|===============================+======================+======================|\n",
            "|   0  Tesla T4            Off  | 00000000:00:04.0 Off |                    0 |\n",
            "| N/A   39C    P8     9W /  70W |      0MiB / 15360MiB |      0%      Default |\n",
            "|                               |                      |                  N/A |\n",
            "+-------------------------------+----------------------+----------------------+\n",
            "                                                                               \n",
            "+-----------------------------------------------------------------------------+\n",
            "| Processes:                                                                  |\n",
            "|  GPU   GI   CI        PID   Type   Process name                  GPU Memory |\n",
            "|        ID   ID                                                   Usage      |\n",
            "|=============================================================================|\n",
            "|  No running processes found                                                 |\n",
            "+-----------------------------------------------------------------------------+\n"
          ]
        }
      ]
    },
    {
      "cell_type": "markdown",
      "metadata": {
        "id": "6x3MtL6h-2pS"
      },
      "source": [
        "# Clone repository"
      ]
    },
    {
      "cell_type": "code",
      "metadata": {
        "colab": {
          "base_uri": "https://localhost:8080/"
        },
        "id": "7rxoLVDnvq0A",
        "outputId": "945202c2-abda-49a3-b331-11f95220b71f"
      },
      "source": [
        "!git clone https://github.com/kaylode/vehicle-counting.git main\n",
        "%cd main"
      ],
      "execution_count": null,
      "outputs": [
        {
          "output_type": "stream",
          "name": "stdout",
          "text": [
            "Cloning into 'main'...\n",
            "remote: Enumerating objects: 1036, done.\u001b[K\n",
            "remote: Counting objects: 100% (44/44), done.\u001b[K\n",
            "remote: Compressing objects: 100% (25/25), done.\u001b[K\n",
            "remote: Total 1036 (delta 23), reused 21 (delta 19), pack-reused 992\u001b[K\n",
            "Receiving objects: 100% (1036/1036), 263.57 MiB | 23.41 MiB/s, done.\n",
            "Resolving deltas: 100% (513/513), done.\n",
            "/content/main\n"
          ]
        }
      ]
    },
    {
      "cell_type": "code",
      "metadata": {
        "id": "vOt2YoCLkD2S"
      },
      "source": [
        "%%capture\n",
        "!pip install -r requirements.txt"
      ],
      "execution_count": null,
      "outputs": []
    },
    {
      "cell_type": "code",
      "source": [
        "!pip uninstall opencv-python-headless\n",
        "!pip install opencv-python-headless==4.5.4.60"
      ],
      "metadata": {
        "colab": {
          "base_uri": "https://localhost:8080/"
        },
        "id": "hNJUa_tsPrJO",
        "outputId": "1485a27b-bdd0-413e-ef47-52fc18145126"
      },
      "execution_count": null,
      "outputs": [
        {
          "output_type": "stream",
          "name": "stdout",
          "text": [
            "Found existing installation: opencv-python-headless 4.8.0.74\n",
            "Uninstalling opencv-python-headless-4.8.0.74:\n",
            "  Would remove:\n",
            "    /usr/local/lib/python3.10/dist-packages/cv2/*\n",
            "    /usr/local/lib/python3.10/dist-packages/opencv_python_headless-4.8.0.74.dist-info/*\n",
            "    /usr/local/lib/python3.10/dist-packages/opencv_python_headless.libs/libavcodec-402e4b05.so.59.37.100\n",
            "    /usr/local/lib/python3.10/dist-packages/opencv_python_headless.libs/libavformat-0e2a2001.so.59.27.100\n",
            "    /usr/local/lib/python3.10/dist-packages/opencv_python_headless.libs/libavutil-ac9b7a1d.so.57.28.100\n",
            "    /usr/local/lib/python3.10/dist-packages/opencv_python_headless.libs/libcrypto-4b97533b.so.1.1\n",
            "    /usr/local/lib/python3.10/dist-packages/opencv_python_headless.libs/libgfortran-91cc3cb1.so.3.0.0\n",
            "    /usr/local/lib/python3.10/dist-packages/opencv_python_headless.libs/libopenblas-r0-f650aae0.3.3.so\n",
            "    /usr/local/lib/python3.10/dist-packages/opencv_python_headless.libs/libpng16-7379b3c3.so.16.40.0\n",
            "    /usr/local/lib/python3.10/dist-packages/opencv_python_headless.libs/libquadmath-96973f99.so.0.0.0\n",
            "    /usr/local/lib/python3.10/dist-packages/opencv_python_headless.libs/libssl-4e89c2e4.so.1.1\n",
            "    /usr/local/lib/python3.10/dist-packages/opencv_python_headless.libs/libswresample-c26a2b7e.so.4.7.100\n",
            "    /usr/local/lib/python3.10/dist-packages/opencv_python_headless.libs/libswscale-e41a6754.so.6.7.100\n",
            "    /usr/local/lib/python3.10/dist-packages/opencv_python_headless.libs/libvpx-2c989c7f.so.8.0.0\n",
            "  Would not remove (might be manually added):\n",
            "    /usr/local/lib/python3.10/dist-packages/cv2/qt/fonts/DejaVuSans-Bold.ttf\n",
            "    /usr/local/lib/python3.10/dist-packages/cv2/qt/fonts/DejaVuSans-BoldOblique.ttf\n",
            "    /usr/local/lib/python3.10/dist-packages/cv2/qt/fonts/DejaVuSans-ExtraLight.ttf\n",
            "    /usr/local/lib/python3.10/dist-packages/cv2/qt/fonts/DejaVuSans-Oblique.ttf\n",
            "    /usr/local/lib/python3.10/dist-packages/cv2/qt/fonts/DejaVuSans.ttf\n",
            "    /usr/local/lib/python3.10/dist-packages/cv2/qt/fonts/DejaVuSansCondensed-Bold.ttf\n",
            "    /usr/local/lib/python3.10/dist-packages/cv2/qt/fonts/DejaVuSansCondensed-BoldOblique.ttf\n",
            "    /usr/local/lib/python3.10/dist-packages/cv2/qt/fonts/DejaVuSansCondensed-Oblique.ttf\n",
            "    /usr/local/lib/python3.10/dist-packages/cv2/qt/fonts/DejaVuSansCondensed.ttf\n",
            "    /usr/local/lib/python3.10/dist-packages/cv2/qt/plugins/platforms/libqxcb.so\n",
            "Proceed (Y/n)? "
          ]
        }
      ]
    },
    {
      "cell_type": "code",
      "metadata": {
        "id": "GgOMjjzrkHhO"
      },
      "source": [
        "!git reset --hard HEAD\n",
        "!git pull"
      ],
      "execution_count": null,
      "outputs": []
    },
    {
      "cell_type": "markdown",
      "metadata": {
        "id": "KWKqL6ae-71g"
      },
      "source": [
        "# Copy video file\n",
        "For input data, you need 2 file:\n",
        "- Video\n",
        "- Directions and Zone annotation file associated with the street in the video, have same name with the video\n"
      ]
    },
    {
      "cell_type": "markdown",
      "metadata": {
        "id": "y_-PbnLA_DB4"
      },
      "source": [
        "# Start inference\n",
        "Define these things before run:\n",
        "- Path to street annotation files in **configs/cam_configs.yaml**\n",
        "- Path to video file\n",
        "- Model's checkpoint"
      ]
    },
    {
      "cell_type": "code",
      "source": [
        "!gdown https://drive.google.com/file/d/1-Y6H3QdRevfBKYDQxgRiR2CRinRVPt9O -O /content/yolov5s.pt"
      ],
      "metadata": {
        "colab": {
          "base_uri": "https://localhost:8080/"
        },
        "id": "TwazXGlv6YuH",
        "outputId": "d61285fa-81da-4521-b09f-31693c92c5be"
      },
      "execution_count": null,
      "outputs": [
        {
          "output_type": "stream",
          "name": "stdout",
          "text": [
            "/usr/local/lib/python3.10/dist-packages/gdown/parse_url.py:28: UserWarning: You specified Google Drive Link but it is not the correct link to download the file. Maybe you should try: https://drive.google.com/uc?id=None\n",
            "  warnings.warn(\n",
            "Downloading...\n",
            "From: https://drive.google.com/file/d/1-Y6H3QdRevfBKYDQxgRiR2CRinRVPt9O\n",
            "To: /content/yolov5s.pt\n",
            "77.6kB [00:00, 4.34MB/s]\n"
          ]
        }
      ]
    },
    {
      "cell_type": "code",
      "source": [
        "!gdown https://drive.google.com/file/d/10It3-bByVQUiLV9q4sdJDXQ3bNK9obKi -O /content/yolov5m.pt"
      ],
      "metadata": {
        "colab": {
          "base_uri": "https://localhost:8080/"
        },
        "outputId": "370104ce-0aad-40da-9fd2-613707ea16f9",
        "id": "nLzl5c4v-TkS"
      },
      "execution_count": null,
      "outputs": [
        {
          "output_type": "stream",
          "name": "stdout",
          "text": [
            "/usr/local/lib/python3.10/dist-packages/gdown/parse_url.py:28: UserWarning: You specified Google Drive Link but it is not the correct link to download the file. Maybe you should try: https://drive.google.com/uc?id=None\n",
            "  warnings.warn(\n",
            "Downloading...\n",
            "From: https://drive.google.com/file/d/10It3-bByVQUiLV9q4sdJDXQ3bNK9obKi\n",
            "To: /content/yolov5m.pt\n",
            "77.6kB [00:00, 2.89MB/s]\n"
          ]
        }
      ]
    },
    {
      "cell_type": "code",
      "metadata": {
        "id": "sgPQFocQ9FPi"
      },
      "source": [
        "!mkdir /content/results"
      ],
      "execution_count": null,
      "outputs": []
    },
    {
      "cell_type": "code",
      "source": [
        "!git clone https://github.com/ultralytics/yolov5\n",
        "%cd yolov5\n",
        "!pip install -r requirements.txt"
      ],
      "metadata": {
        "id": "TSI545XX12LK"
      },
      "execution_count": null,
      "outputs": []
    },
    {
      "cell_type": "code",
      "source": [
        "%cd yolov5\n",
        "!python train.py --img 640 --batch 16 --epochs 3 --data coco128.yaml --weights yolov5s.pt"
      ],
      "metadata": {
        "id": "GXtcQ5hkIPUU"
      },
      "execution_count": null,
      "outputs": []
    },
    {
      "cell_type": "code",
      "source": [
        "%cd yolov5\n",
        "!python train.py --img 640 --batch 16 --epochs 3 --data VisDrone.yaml --weights yolov5s.pt"
      ],
      "metadata": {
        "id": "aAalYE0Dtw7u"
      },
      "execution_count": null,
      "outputs": []
    },
    {
      "cell_type": "code",
      "metadata": {
        "colab": {
          "base_uri": "https://localhost:8080/"
        },
        "id": "sf23nTT2xxT5",
        "outputId": "62a42dad-63fe-4bb0-81af-2ac5c8656968"
      },
      "source": [
        "%cd /content/main\n",
        "!python run.py --input_path='/content/main/demo/sample/cam_04.mp4' \\\n",
        "              --output_path=\"/content/results\" \\\n",
        "              --weight=\"/content/yolov5m.pt\""
      ],
      "execution_count": null,
      "outputs": [
        {
          "output_type": "stream",
          "name": "stdout",
          "text": [
            "/content/main\n",
            "##########   CONFIGURATION INFO   ##########\n",
            "model_name:\tyolov5s\n",
            "gpu_devices:\t0\n",
            "num_epochs:\t300\n",
            "batch_size:\t16\n",
            "num_workers:\t2\n",
            "min_iou:\t0.45\n",
            "min_conf:\t0.25\n",
            "max_det:\t300\n",
            "image_size:\t[640, 640]\n",
            "keep_ratio:\tTrue\n",
            "\n",
            "\n",
            "Nubmer of gpus: 1\n",
            "CUDA:0 (Tesla T4, 15101.8125MB)\n",
            "\n",
            "Downloading: \"https://github.com/ultralytics/yolov5/zipball/master\" to /root/.cache/torch/hub/master.zip\n",
            "WARNING ⚠️ 'ultralytics.yolo.v8' is deprecated since '8.0.136' and will be removed in '8.1.0'. Please use 'ultralytics.models.yolo' instead.\n",
            "WARNING ⚠️ 'ultralytics.yolo.utils' is deprecated since '8.0.136' and will be removed in '8.1.0'. Please use 'ultralytics.utils' instead.\n",
            "Note this warning may be related to loading older models. You can update your model to current structure with:\n",
            "    import torch\n",
            "    ckpt = torch.load(\"model.pt\")  # applies to both official and custom models\n",
            "    torch.save(ckpt, \"updated-model.pt\")\n",
            "\n",
            "YOLOv5 🚀 2023-7-28 Python-3.10.6 torch-2.0.1+cu118 CUDA:0 (Tesla T4, 15102MiB)\n",
            "\n",
            "Downloading https://github.com/ultralytics/yolov5/releases/download/v7.0/yolov5s.pt to yolov5s.pt...\n",
            "100% 14.1M/14.1M [00:00<00:00, 371MB/s]\n",
            "\n",
            "Fusing layers... \n",
            "YOLOv5s summary: 213 layers, 7225885 parameters, 0 gradients\n",
            "Adding AutoShape... \n",
            "100% 885/885 [02:57<00:00,  5.00it/s]\n",
            "/content/main/utilities/counting/bb_polygon.py:124: RuntimeWarning: invalid value encountered in double_scalars\n",
            "  return tmp1/tmp2\n",
            "100% 885/885 [00:16<00:00, 53.70it/s]\n"
          ]
        }
      ]
    },
    {
      "cell_type": "markdown",
      "metadata": {
        "id": "_rBIGBCv_JLw"
      },
      "source": [
        "# Tracking results\n",
        "There will be two result files:\n",
        "- A **.csv** contains tracking result in every frames\n",
        "- A **.mp4** plots the results from .csv to original video"
      ]
    },
    {
      "cell_type": "code",
      "metadata": {
        "colab": {
          "base_uri": "https://localhost:8080/",
          "height": 206
        },
        "id": "-KyrLRpd-H4o",
        "outputId": "f96816da-3218-472a-a74e-c139647bb10c"
      },
      "source": [
        "import pandas as pd\n",
        "pd.read_csv('/content/results/cam_04.csv').head()"
      ],
      "execution_count": null,
      "outputs": [
        {
          "output_type": "execute_result",
          "data": {
            "text/plain": [
              "   track_id  frame_id                   box            color  label  \\\n",
              "0         2         3  [856, 382, 883, 441]  (122, 150, 233)      0   \n",
              "1         2         4  [866, 378, 892, 434]  (122, 150, 233)      0   \n",
              "2         2         5  [869, 377, 894, 431]  (122, 150, 233)      0   \n",
              "3         2         6  [869, 376, 895, 431]  (122, 150, 233)      0   \n",
              "4         2         7  [872, 375, 897, 429]  (122, 150, 233)      0   \n",
              "\n",
              "   direction          fpoint          lpoint  fframe  lframe  \n",
              "0          1  (869.5, 411.5)  (955.0, 354.0)       3      31  \n",
              "1          1  (869.5, 411.5)  (955.0, 354.0)       3      31  \n",
              "2          1  (869.5, 411.5)  (955.0, 354.0)       3      31  \n",
              "3          1  (869.5, 411.5)  (955.0, 354.0)       3      31  \n",
              "4          1  (869.5, 411.5)  (955.0, 354.0)       3      31  "
            ],
            "text/html": [
              "\n",
              "\n",
              "  <div id=\"df-f5a2a18f-2197-4922-ad37-e33f90612afe\">\n",
              "    <div class=\"colab-df-container\">\n",
              "      <div>\n",
              "<style scoped>\n",
              "    .dataframe tbody tr th:only-of-type {\n",
              "        vertical-align: middle;\n",
              "    }\n",
              "\n",
              "    .dataframe tbody tr th {\n",
              "        vertical-align: top;\n",
              "    }\n",
              "\n",
              "    .dataframe thead th {\n",
              "        text-align: right;\n",
              "    }\n",
              "</style>\n",
              "<table border=\"1\" class=\"dataframe\">\n",
              "  <thead>\n",
              "    <tr style=\"text-align: right;\">\n",
              "      <th></th>\n",
              "      <th>track_id</th>\n",
              "      <th>frame_id</th>\n",
              "      <th>box</th>\n",
              "      <th>color</th>\n",
              "      <th>label</th>\n",
              "      <th>direction</th>\n",
              "      <th>fpoint</th>\n",
              "      <th>lpoint</th>\n",
              "      <th>fframe</th>\n",
              "      <th>lframe</th>\n",
              "    </tr>\n",
              "  </thead>\n",
              "  <tbody>\n",
              "    <tr>\n",
              "      <th>0</th>\n",
              "      <td>2</td>\n",
              "      <td>3</td>\n",
              "      <td>[856, 382, 883, 441]</td>\n",
              "      <td>(122, 150, 233)</td>\n",
              "      <td>0</td>\n",
              "      <td>1</td>\n",
              "      <td>(869.5, 411.5)</td>\n",
              "      <td>(955.0, 354.0)</td>\n",
              "      <td>3</td>\n",
              "      <td>31</td>\n",
              "    </tr>\n",
              "    <tr>\n",
              "      <th>1</th>\n",
              "      <td>2</td>\n",
              "      <td>4</td>\n",
              "      <td>[866, 378, 892, 434]</td>\n",
              "      <td>(122, 150, 233)</td>\n",
              "      <td>0</td>\n",
              "      <td>1</td>\n",
              "      <td>(869.5, 411.5)</td>\n",
              "      <td>(955.0, 354.0)</td>\n",
              "      <td>3</td>\n",
              "      <td>31</td>\n",
              "    </tr>\n",
              "    <tr>\n",
              "      <th>2</th>\n",
              "      <td>2</td>\n",
              "      <td>5</td>\n",
              "      <td>[869, 377, 894, 431]</td>\n",
              "      <td>(122, 150, 233)</td>\n",
              "      <td>0</td>\n",
              "      <td>1</td>\n",
              "      <td>(869.5, 411.5)</td>\n",
              "      <td>(955.0, 354.0)</td>\n",
              "      <td>3</td>\n",
              "      <td>31</td>\n",
              "    </tr>\n",
              "    <tr>\n",
              "      <th>3</th>\n",
              "      <td>2</td>\n",
              "      <td>6</td>\n",
              "      <td>[869, 376, 895, 431]</td>\n",
              "      <td>(122, 150, 233)</td>\n",
              "      <td>0</td>\n",
              "      <td>1</td>\n",
              "      <td>(869.5, 411.5)</td>\n",
              "      <td>(955.0, 354.0)</td>\n",
              "      <td>3</td>\n",
              "      <td>31</td>\n",
              "    </tr>\n",
              "    <tr>\n",
              "      <th>4</th>\n",
              "      <td>2</td>\n",
              "      <td>7</td>\n",
              "      <td>[872, 375, 897, 429]</td>\n",
              "      <td>(122, 150, 233)</td>\n",
              "      <td>0</td>\n",
              "      <td>1</td>\n",
              "      <td>(869.5, 411.5)</td>\n",
              "      <td>(955.0, 354.0)</td>\n",
              "      <td>3</td>\n",
              "      <td>31</td>\n",
              "    </tr>\n",
              "  </tbody>\n",
              "</table>\n",
              "</div>\n",
              "      <button class=\"colab-df-convert\" onclick=\"convertToInteractive('df-f5a2a18f-2197-4922-ad37-e33f90612afe')\"\n",
              "              title=\"Convert this dataframe to an interactive table.\"\n",
              "              style=\"display:none;\">\n",
              "\n",
              "  <svg xmlns=\"http://www.w3.org/2000/svg\" height=\"24px\"viewBox=\"0 0 24 24\"\n",
              "       width=\"24px\">\n",
              "    <path d=\"M0 0h24v24H0V0z\" fill=\"none\"/>\n",
              "    <path d=\"M18.56 5.44l.94 2.06.94-2.06 2.06-.94-2.06-.94-.94-2.06-.94 2.06-2.06.94zm-11 1L8.5 8.5l.94-2.06 2.06-.94-2.06-.94L8.5 2.5l-.94 2.06-2.06.94zm10 10l.94 2.06.94-2.06 2.06-.94-2.06-.94-.94-2.06-.94 2.06-2.06.94z\"/><path d=\"M17.41 7.96l-1.37-1.37c-.4-.4-.92-.59-1.43-.59-.52 0-1.04.2-1.43.59L10.3 9.45l-7.72 7.72c-.78.78-.78 2.05 0 2.83L4 21.41c.39.39.9.59 1.41.59.51 0 1.02-.2 1.41-.59l7.78-7.78 2.81-2.81c.8-.78.8-2.07 0-2.86zM5.41 20L4 18.59l7.72-7.72 1.47 1.35L5.41 20z\"/>\n",
              "  </svg>\n",
              "      </button>\n",
              "\n",
              "\n",
              "\n",
              "    <div id=\"df-c62761fa-cb59-478d-a9db-3826d5083827\">\n",
              "      <button class=\"colab-df-quickchart\" onclick=\"quickchart('df-c62761fa-cb59-478d-a9db-3826d5083827')\"\n",
              "              title=\"Suggest charts.\"\n",
              "              style=\"display:none;\">\n",
              "\n",
              "<svg xmlns=\"http://www.w3.org/2000/svg\" height=\"24px\"viewBox=\"0 0 24 24\"\n",
              "     width=\"24px\">\n",
              "    <g>\n",
              "        <path d=\"M19 3H5c-1.1 0-2 .9-2 2v14c0 1.1.9 2 2 2h14c1.1 0 2-.9 2-2V5c0-1.1-.9-2-2-2zM9 17H7v-7h2v7zm4 0h-2V7h2v10zm4 0h-2v-4h2v4z\"/>\n",
              "    </g>\n",
              "</svg>\n",
              "      </button>\n",
              "    </div>\n",
              "\n",
              "<style>\n",
              "  .colab-df-quickchart {\n",
              "    background-color: #E8F0FE;\n",
              "    border: none;\n",
              "    border-radius: 50%;\n",
              "    cursor: pointer;\n",
              "    display: none;\n",
              "    fill: #1967D2;\n",
              "    height: 32px;\n",
              "    padding: 0 0 0 0;\n",
              "    width: 32px;\n",
              "  }\n",
              "\n",
              "  .colab-df-quickchart:hover {\n",
              "    background-color: #E2EBFA;\n",
              "    box-shadow: 0px 1px 2px rgba(60, 64, 67, 0.3), 0px 1px 3px 1px rgba(60, 64, 67, 0.15);\n",
              "    fill: #174EA6;\n",
              "  }\n",
              "\n",
              "  [theme=dark] .colab-df-quickchart {\n",
              "    background-color: #3B4455;\n",
              "    fill: #D2E3FC;\n",
              "  }\n",
              "\n",
              "  [theme=dark] .colab-df-quickchart:hover {\n",
              "    background-color: #434B5C;\n",
              "    box-shadow: 0px 1px 3px 1px rgba(0, 0, 0, 0.15);\n",
              "    filter: drop-shadow(0px 1px 2px rgba(0, 0, 0, 0.3));\n",
              "    fill: #FFFFFF;\n",
              "  }\n",
              "</style>\n",
              "\n",
              "    <script>\n",
              "      async function quickchart(key) {\n",
              "        const containerElement = document.querySelector('#' + key);\n",
              "        const charts = await google.colab.kernel.invokeFunction(\n",
              "            'suggestCharts', [key], {});\n",
              "      }\n",
              "    </script>\n",
              "\n",
              "      <script>\n",
              "\n",
              "function displayQuickchartButton(domScope) {\n",
              "  let quickchartButtonEl =\n",
              "    domScope.querySelector('#df-c62761fa-cb59-478d-a9db-3826d5083827 button.colab-df-quickchart');\n",
              "  quickchartButtonEl.style.display =\n",
              "    google.colab.kernel.accessAllowed ? 'block' : 'none';\n",
              "}\n",
              "\n",
              "        displayQuickchartButton(document);\n",
              "      </script>\n",
              "      <style>\n",
              "    .colab-df-container {\n",
              "      display:flex;\n",
              "      flex-wrap:wrap;\n",
              "      gap: 12px;\n",
              "    }\n",
              "\n",
              "    .colab-df-convert {\n",
              "      background-color: #E8F0FE;\n",
              "      border: none;\n",
              "      border-radius: 50%;\n",
              "      cursor: pointer;\n",
              "      display: none;\n",
              "      fill: #1967D2;\n",
              "      height: 32px;\n",
              "      padding: 0 0 0 0;\n",
              "      width: 32px;\n",
              "    }\n",
              "\n",
              "    .colab-df-convert:hover {\n",
              "      background-color: #E2EBFA;\n",
              "      box-shadow: 0px 1px 2px rgba(60, 64, 67, 0.3), 0px 1px 3px 1px rgba(60, 64, 67, 0.15);\n",
              "      fill: #174EA6;\n",
              "    }\n",
              "\n",
              "    [theme=dark] .colab-df-convert {\n",
              "      background-color: #3B4455;\n",
              "      fill: #D2E3FC;\n",
              "    }\n",
              "\n",
              "    [theme=dark] .colab-df-convert:hover {\n",
              "      background-color: #434B5C;\n",
              "      box-shadow: 0px 1px 3px 1px rgba(0, 0, 0, 0.15);\n",
              "      filter: drop-shadow(0px 1px 2px rgba(0, 0, 0, 0.3));\n",
              "      fill: #FFFFFF;\n",
              "    }\n",
              "  </style>\n",
              "\n",
              "      <script>\n",
              "        const buttonEl =\n",
              "          document.querySelector('#df-f5a2a18f-2197-4922-ad37-e33f90612afe button.colab-df-convert');\n",
              "        buttonEl.style.display =\n",
              "          google.colab.kernel.accessAllowed ? 'block' : 'none';\n",
              "\n",
              "        async function convertToInteractive(key) {\n",
              "          const element = document.querySelector('#df-f5a2a18f-2197-4922-ad37-e33f90612afe');\n",
              "          const dataTable =\n",
              "            await google.colab.kernel.invokeFunction('convertToInteractive',\n",
              "                                                     [key], {});\n",
              "          if (!dataTable) return;\n",
              "\n",
              "          const docLinkHtml = 'Like what you see? Visit the ' +\n",
              "            '<a target=\"_blank\" href=https://colab.research.google.com/notebooks/data_table.ipynb>data table notebook</a>'\n",
              "            + ' to learn more about interactive tables.';\n",
              "          element.innerHTML = '';\n",
              "          dataTable['output_type'] = 'display_data';\n",
              "          await google.colab.output.renderOutput(dataTable, element);\n",
              "          const docLink = document.createElement('div');\n",
              "          docLink.innerHTML = docLinkHtml;\n",
              "          element.appendChild(docLink);\n",
              "        }\n",
              "      </script>\n",
              "    </div>\n",
              "  </div>\n"
            ]
          },
          "metadata": {},
          "execution_count": 16
        }
      ]
    },
    {
      "cell_type": "code",
      "source": [
        "from google.colab import files\n",
        "%cd /content/results\n",
        "files.download('cam_04.mp4')"
      ],
      "metadata": {
        "colab": {
          "base_uri": "https://localhost:8080/",
          "height": 52
        },
        "id": "4QrNtsg8AL4B",
        "outputId": "736b50cb-0459-410e-95ca-1d3755bee061"
      },
      "execution_count": null,
      "outputs": [
        {
          "output_type": "stream",
          "name": "stdout",
          "text": [
            "/content/results\n"
          ]
        },
        {
          "output_type": "display_data",
          "data": {
            "text/plain": [
              "<IPython.core.display.Javascript object>"
            ],
            "application/javascript": [
              "\n",
              "    async function download(id, filename, size) {\n",
              "      if (!google.colab.kernel.accessAllowed) {\n",
              "        return;\n",
              "      }\n",
              "      const div = document.createElement('div');\n",
              "      const label = document.createElement('label');\n",
              "      label.textContent = `Downloading \"${filename}\": `;\n",
              "      div.appendChild(label);\n",
              "      const progress = document.createElement('progress');\n",
              "      progress.max = size;\n",
              "      div.appendChild(progress);\n",
              "      document.body.appendChild(div);\n",
              "\n",
              "      const buffers = [];\n",
              "      let downloaded = 0;\n",
              "\n",
              "      const channel = await google.colab.kernel.comms.open(id);\n",
              "      // Send a message to notify the kernel that we're ready.\n",
              "      channel.send({})\n",
              "\n",
              "      for await (const message of channel.messages) {\n",
              "        // Send a message to notify the kernel that we're ready.\n",
              "        channel.send({})\n",
              "        if (message.buffers) {\n",
              "          for (const buffer of message.buffers) {\n",
              "            buffers.push(buffer);\n",
              "            downloaded += buffer.byteLength;\n",
              "            progress.value = downloaded;\n",
              "          }\n",
              "        }\n",
              "      }\n",
              "      const blob = new Blob(buffers, {type: 'application/binary'});\n",
              "      const a = document.createElement('a');\n",
              "      a.href = window.URL.createObjectURL(blob);\n",
              "      a.download = filename;\n",
              "      div.appendChild(a);\n",
              "      a.click();\n",
              "      div.remove();\n",
              "    }\n",
              "  "
            ]
          },
          "metadata": {}
        },
        {
          "output_type": "display_data",
          "data": {
            "text/plain": [
              "<IPython.core.display.Javascript object>"
            ],
            "application/javascript": [
              "download(\"download_7a1e6e7d-094a-43ca-a461-9cb6c06e906d\", \"cam_04.mp4\", 72191465)"
            ]
          },
          "metadata": {}
        }
      ]
    }
  ]
}